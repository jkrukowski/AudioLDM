{
 "cells": [
  {
   "attachments": {},
   "cell_type": "markdown",
   "metadata": {},
   "source": [
    "# AudioLDM"
   ]
  },
  {
   "attachments": {},
   "cell_type": "markdown",
   "metadata": {},
   "source": [
    "## Install git lfs"
   ]
  },
  {
   "cell_type": "code",
   "execution_count": null,
   "metadata": {},
   "outputs": [],
   "source": [
    "!curl -s https://packagecloud.io/install/repositories/github/git-lfs/script.deb.sh | sudo bash\n",
    "!sudo apt-get install git-lfs"
   ]
  },
  {
   "attachments": {},
   "cell_type": "markdown",
   "metadata": {},
   "source": [
    "## Clone model from huggingface"
   ]
  },
  {
   "cell_type": "code",
   "execution_count": null,
   "metadata": {},
   "outputs": [],
   "source": [
    "!git clone https://huggingface.co/haoheliu/AudioLDM-S-Full\n",
    "!rm AudioLDM-S-Full/audioldm-s-full AudioLDM-S-Full/audioldm-s-full.ckpt"
   ]
  },
  {
   "attachments": {},
   "cell_type": "markdown",
   "metadata": {},
   "source": [
    "## Install AudioLDM"
   ]
  },
  {
   "cell_type": "code",
   "execution_count": null,
   "metadata": {},
   "outputs": [],
   "source": [
    "!git clone https://github.com/jkrukowski/AudioLDM.git && git checkout -t origin/removed-model-download\n",
    "!pip install -e AudioLDM/"
   ]
  },
  {
   "cell_type": "code",
   "execution_count": null,
   "metadata": {},
   "outputs": [],
   "source": [
    "import sys\n",
    "sys.path.append('./AudioLDM/')"
   ]
  },
  {
   "cell_type": "code",
   "execution_count": null,
   "metadata": {},
   "outputs": [],
   "source": [
    "import numpy as np\n",
    "import random\n",
    "import uuid\n",
    "import soundfile as sf\n",
    "from audioldm import text_to_audio, style_transfer, build_model, latent_diffusion\n",
    "\n",
    "audioldm = build_model(ckpt_path='./AudioLDM-S-Full/audioldm-s-full.ckpt')\n",
    "\n",
    "def text2audio(text, duration, guidance_scale, random_seed, n_candidates, steps):\n",
    "  waveform = text_to_audio(\n",
    "    audioldm,\n",
    "    text,\n",
    "    random_seed,\n",
    "    duration=duration,\n",
    "    guidance_scale=guidance_scale,\n",
    "    ddim_steps=steps,\n",
    "    n_candidate_gen_per_text=int(n_candidates)\n",
    "  )\n",
    "  if(len(waveform) == 1):\n",
    "    waveform = waveform[0]\n",
    "  return waveform\n",
    "\n",
    "def styleaudio(text, duration, audio_path, strength, guidance_scale, random_seed, steps):\n",
    "  waveform = style_transfer(\n",
    "    audioldm,\n",
    "    text,\n",
    "    audio_path,\n",
    "    strength,\n",
    "    random_seed,\n",
    "    duration=duration,\n",
    "    guidance_scale=guidance_scale,\n",
    "    ddim_steps=steps,\n",
    "  )\n",
    "  if(len(waveform) == 1):\n",
    "    waveform = waveform[0]\n",
    "  return waveform"
   ]
  },
  {
   "cell_type": "code",
   "execution_count": null,
   "metadata": {},
   "outputs": [],
   "source": [
    "input = \"blend of haunting soundscapes and minimalist electronic music. The resulting sound would be characterized by manipulated and processed samples, beats, and textures, combined with atmospheric and nostalgic elements. Repetitive loops, glitch elements, and sound decay would create a mesmerizing and hypnotic effect. The focus would be on sound design, textures, and timbres, while incorporating elements of emotion and memory. The resulting music would be experimental, dreamy, and immersive, offering a unique and captivating listening experience.\"\n",
    "seed = random.randint(0, 10_000_000)\n",
    "generated_audio = text2audio(input, 25, 10, seed, 10, 500)\n",
    "sf.write(f'{uuid.uuid4()}_{seed}.wav', generated_audio.T, 16000, subtype='PCM_24')"
   ]
  }
 ],
 "metadata": {
  "language_info": {
   "name": "python"
  },
  "orig_nbformat": 4
 },
 "nbformat": 4,
 "nbformat_minor": 2
}
