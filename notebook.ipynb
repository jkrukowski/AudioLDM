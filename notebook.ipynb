{
 "cells": [
  {
   "attachments": {},
   "cell_type": "markdown",
   "metadata": {},
   "source": [
    "# AudioLDM"
   ]
  },
  {
   "attachments": {},
   "cell_type": "markdown",
   "metadata": {},
   "source": [
    "## Install git lfs"
   ]
  },
  {
   "cell_type": "code",
   "execution_count": null,
   "metadata": {},
   "outputs": [],
   "source": [
    "!curl -s https://packagecloud.io/install/repositories/github/git-lfs/script.deb.sh | sudo bash\n",
    "!sudo apt-get install git-lfs"
   ]
  },
  {
   "attachments": {},
   "cell_type": "markdown",
   "metadata": {},
   "source": [
    "## Clone model from huggingface"
   ]
  },
  {
   "cell_type": "code",
   "execution_count": null,
   "metadata": {},
   "outputs": [],
   "source": [
    "!git clone https://huggingface.co/haoheliu/AudioLDM-S-Full\n",
    "!mv AudioLDM-S-Full/audioldm-s-full AudioLDM-S-Full/audioldm-s-full.ckpt"
   ]
  },
  {
   "attachments": {},
   "cell_type": "markdown",
   "metadata": {},
   "source": [
    "## Install AudioLDM"
   ]
  },
  {
   "cell_type": "code",
   "execution_count": null,
   "metadata": {},
   "outputs": [],
   "source": [
    "!git clone https://github.com/jkrukowski/AudioLDM.git && cd AudioLDM && git checkout -t origin/removed-model-download && cd ..\n",
    "!pip install -e AudioLDM/"
   ]
  },
  {
   "cell_type": "code",
   "execution_count": null,
   "metadata": {},
   "outputs": [],
   "source": [
    "import sys\n",
    "sys.path.append('./AudioLDM/')"
   ]
  },
  {
   "cell_type": "code",
   "execution_count": null,
   "metadata": {},
   "outputs": [],
   "source": [
    "import numpy as np\n",
    "import random\n",
    "import uuid\n",
    "import librosa\n",
    "import soundfile as sf\n",
    "from IPython.display import Audio, display\n",
    "from audioldm import text_to_audio, style_transfer, build_model, latent_diffusion\n",
    "\n",
    "audioldm = build_model(ckpt_path='./AudioLDM-S-Full/audioldm-s-full.ckpt')\n",
    "\n",
    "def round_to_multiple(number, multiple):\n",
    "  x = multiple * round(number / multiple)\n",
    "  if x == 0: x = multiple\n",
    "  return x\n",
    "\n",
    "def text2audio(text, duration, guidance_scale, random_seed, n_candidates, steps):\n",
    "  waveform = text_to_audio(\n",
    "    audioldm,\n",
    "    text,\n",
    "    random_seed,\n",
    "    duration=duration,\n",
    "    guidance_scale=guidance_scale,\n",
    "    ddim_steps=steps,\n",
    "    n_candidate_gen_per_text=int(n_candidates)\n",
    "  )\n",
    "  if(len(waveform) == 1):\n",
    "    waveform = waveform[0]\n",
    "  return waveform\n",
    "\n",
    "def styleaudio(text, duration, audio_path, strength, guidance_scale, random_seed, steps):\n",
    "  waveform = style_transfer(\n",
    "    audioldm,\n",
    "    text,\n",
    "    audio_path,\n",
    "    strength,\n",
    "    random_seed,\n",
    "    duration=duration,\n",
    "    guidance_scale=guidance_scale,\n",
    "    ddim_steps=steps,\n",
    "  )\n",
    "  if(len(waveform) == 1):\n",
    "    waveform = waveform[0]\n",
    "  return waveform"
   ]
  },
  {
   "attachments": {},
   "cell_type": "markdown",
   "metadata": {},
   "source": [
    "## Text2Audio"
   ]
  },
  {
   "cell_type": "code",
   "execution_count": null,
   "metadata": {},
   "outputs": [],
   "source": [
    "input = \"blend of haunting soundscapes and minimalist electronic music. The resulting sound would be characterized by manipulated and processed samples, beats, and textures, combined with atmospheric and nostalgic elements. Repetitive loops, glitch elements, and sound decay would create a mesmerizing and hypnotic effect. The focus would be on sound design, textures, and timbres, while incorporating elements of emotion and memory. The resulting music would be experimental, dreamy, and immersive, offering a unique and captivating listening experience.\"\n",
    "seed = random.randint(0, 10_000_000)\n",
    "generated_audio = text2audio(input, 20, 10, seed, 10, 500)\n",
    "out_file = f'text2audio_{uuid.uuid4()}_{seed}.wav'\n",
    "sf.write(out_file, generated_audio.T, 16000, subtype='PCM_24')\n",
    "print(out_file)\n",
    "display(Audio(out_file, autoplay=False))"
   ]
  },
  {
   "attachments": {},
   "cell_type": "markdown",
   "metadata": {},
   "source": [
    "## Style audio"
   ]
  },
  {
   "cell_type": "code",
   "execution_count": null,
   "metadata": {},
   "outputs": [],
   "source": [
    "init_y, init_sr = librosa.load(\"/content/32a88eb2-620a-4f9d-8ecb-7e9783bc9bc5_6839090.wav\", sr=None, mono=True)\n",
    "init_duration = librosa.get_duration(init_y, init_sr)\n",
    "duration = round_to_multiple(init_duration, 2.5) if init_duration < 20 else 20\n",
    "seed = random.randint(0, 10_000_000)\n",
    "out_file = f'styled_{uuid.uuid4()}_{seed}.wav'\n",
    "generated_audio = styleaudio(\"gregorian choir singing\", duration, \"/content/32a88eb2-620a-4f9d-8ecb-7e9783bc9bc5_6839090.wav\", 0.5, 10, seed, 500)\n",
    "sf.write(out_file, generated_audio.T, 16000, subtype='PCM_24')\n",
    "print(out_file)\n",
    "display(Audio(out_file, autoplay=False))"
   ]
  }
 ],
 "metadata": {
  "language_info": {
   "name": "python"
  },
  "orig_nbformat": 4
 },
 "nbformat": 4,
 "nbformat_minor": 2
}
